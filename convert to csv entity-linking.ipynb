{
 "cells": [
  {
   "cell_type": "code",
   "execution_count": 10,
   "metadata": {},
   "outputs": [],
   "source": [
    "import rdflib\n",
    "import csv\n",
    "import pandas as pd\n",
    "import re\n"
   ]
  },
  {
   "cell_type": "code",
   "execution_count": 17,
   "metadata": {},
   "outputs": [
    {
     "name": "stdout",
     "output_type": "stream",
     "text": [
      "[a rdfg:Graph;rdflib:storage [a rdflib:Store;rdfs:label 'IOMemory']].\n"
     ]
    }
   ],
   "source": [
    "g=rdflib.Graph()\n",
    "#rdflib.util.guess_format('feasible-exmp-100qa-benchmark.ttl')\n",
    "g.load(\"newfile_entity_linking.ttl\",format=\"ttl\")\n",
    "print g"
   ]
  },
  {
   "cell_type": "code",
   "execution_count": 18,
   "metadata": {},
   "outputs": [
    {
     "name": "stdout",
     "output_type": "stream",
     "text": [
      "QUESTIONSSSSS ==> Into what military organizations is the United States Department of Defense divided?\n",
      "QUESTIONSSSSS ==> Whose leaders are Willem-Alexander and Fredis Refunjol?\n",
      "QUESTIONSSSSS ==> What shows are on the networks which are from the United States?\n",
      "QUESTIONSSSSS ==> Which country's largest city is Lima?\n",
      "QUESTIONSSSSS ==> Greek writers have won which award?\n",
      "QUESTIONSSSSS ==> Was Krzystof Wielicki the first person that ascended the mt everest?\n",
      "QUESTIONSSSSS ==> What is the largest city of the country to whom, the battle honours of 65th Regiment of Foot were given?\n",
      "QUESTIONSSSSS ==> Do the west coast airlines fly to seattle?\n",
      "QUESTIONSSSSS ==> List down the common sports played by PATTS College of Aeronautics and lytechnic University of the Philippines Taguig ?\n",
      "QUESTIONSSSSS ==> Count the number of region of AN/FSQ-7 Combat Direction Central?\n",
      "QUESTIONSSSSS ==> To which country do gabriel paris gordillo and gustavo rojas pinilla owe their allegiance?\n",
      "QUESTIONSSSSS ==> Where does Truman McGill Hobbs, United States District Judge live?\n",
      "QUESTIONSSSSS ==> Which state's largest city is Omaha?\n",
      "QUESTIONSSSSS ==> What have some famous Christians died of?\n",
      "QUESTIONSSSSS ==> Martin AN/GSG-5 is a part of the building in which city?\n",
      "QUESTIONSSSSS ==> What are the largest cities in each of the destinations of TranStar Airlines?\n",
      "QUESTIONSSSSS ==> Which coach of Marquette Golden Eagles men's basketball team is also the head coach  of Virginia Tech Hokies men's basketball team ?\n",
      "QUESTIONSSSSS ==> To which uni. did  sidney c patridge and cyril hume both once went?\n",
      "QUESTIONSSSSS ==> Who has given guest appearances on the TV Episodes whose was music done by Mama Makes 3?\n",
      "QUESTIONSSSSS ==> What are the houses of Parliament Security Services ?\n",
      "QUESTIONSSSSS ==> What is the hub airport of Pawan Hans, and is also the largest city of India?\n",
      "QUESTIONSSSSS ==> Which rivers flow into the lower manhatten?\n",
      "QUESTIONSSSSS ==> What is the city nearest to the historic place whose architect is Joseph Dion?\n",
      "QUESTIONSSSSS ==> Name the nearest city to David W. Brown House ?\n",
      "QUESTIONSSSSS ==> For how many different teams have Ontarians been drafted ?\n",
      "QUESTIONSSSSS ==> what are some famous people out of the Filipinos?\n",
      "QUESTIONSSSSS ==> What is the state whose largest city is Denver?\n",
      "QUESTIONSSSSS ==> Cable stayed bridges have been used to cross over how many things?\n",
      "QUESTIONSSSSS ==> What are some bands out to texarkana?\n",
      "QUESTIONSSSSS ==> Who has written the mary poppins musical?\n",
      "QUESTIONSSSSS ==> Who gave guest appearances on the show which is the next episode after the Bombshell one?\n",
      "QUESTIONSSSSS ==> Whose commanders are John Mc Ewen and Park Chunghee?\n",
      "QUESTIONSSSSS ==> How many companies have built concrete bridges?\n",
      "QUESTIONSSSSS ==> What religions do diplomats typically follow?\n",
      "QUESTIONSSSSS ==> Which athlete was the flag bearer for Switzerland in 2004 and 2008 summer Olympics ?\n",
      "QUESTIONSSSSS ==> Which TV show's  opening theme is The Best of Both Worlds (song) and executive producer is Steven Peterman?\n",
      "QUESTIONSSSSS ==> Which largest city of Salsette Island is also the largest city of India ?\n",
      "QUESTIONSSSSS ==> How many races has Best Mate won?\n",
      "QUESTIONSSSSS ==> What is the protected area whose nearest city is Kenya?\n",
      "QUESTIONSSSSS ==> Which high school of the Jerry Tagge also was the palce hwer Temptation Waits was recorded ?\n",
      "QUESTIONSSSSS ==> In which city is the building, whose part is the Martin AN/FSG1 anti aircraft system?\n",
      "QUESTIONSSSSS ==> Where are Thomas Franois Burgers and Johannes Gerhardus Strijdom buried?\n",
      "QUESTIONSSSSS ==> Which  siler medalist of the Tennis at the 2012 Summer Olympics  Men's singles was also the  flagbearer of the Switzerland at the 2008 Summer Olympics\n",
      "QUESTIONSSSSS ==> Cleopatra V of Egypt is father to which royalty?\n",
      "QUESTIONSSSSS ==> Is morrissey in the smiths?\n",
      "QUESTIONSSSSS ==> Which is the nearest city to Elliott Bay ?\n",
      "QUESTIONSSSSS ==> What are some movies written by British writers?\n",
      "QUESTIONSSSSS ==> Where are the agencies headquartered at, which are under the Colorado Dept of Natural Resources?\n",
      "QUESTIONSSSSS ==> Which leader of United States House of Representatives was the appinter of ohn Drayton ?\n",
      "QUESTIONSSSSS ==> Which headcoach of Marquette Golden Eagles men's basketball team, 2008-09 was also the coach of Marquette Golden Eagles team ?\n",
      "QUESTIONSSSSS ==> What are some primates?\n",
      "QUESTIONSSSSS ==> Which awards has been given to both michel hazanavicius and geoffrey rush?\n",
      "QUESTIONSSSSS ==> British people have edited which movies?\n",
      "QUESTIONSSSSS ==> Name the common sports played at Polytechnic University of Philippines San Juan and Islamic Azad University?\n",
      "QUESTIONSSSSS ==> Was John Boehner the winner of the US House of Representatives elections in Ohio in 2010?\n",
      "QUESTIONSSSSS ==> What is the largest city of the birthplace of Pat Kirkwood?\n",
      "QUESTIONSSSSS ==> What are the houses of the Parliament Security Services and Parliament of India ?\n",
      "QUESTIONSSSSS ==> Whihc place of birth of the Union State is also the largest city of Union Staete ?\n",
      "QUESTIONSSSSS ==> Give me some administrators of bridges over which cars can go?\n",
      "QUESTIONSSSSS ==> Is Ethics the main interests of Henry David Thoreau?\n",
      "QUESTIONSSSSS ==> For which team does hunter pence play for?\n",
      "QUESTIONSSSSS ==> What is the ethnicity of the people working for the Philippines house of representatives?\n",
      "QUESTIONSSSSS ==> What tv series can be said to be related to the sarah jane adventure and dr who confidential?\n",
      "QUESTIONSSSSS ==> Give me some series whose network's owning company is Warner Bros. Television?\n",
      "QUESTIONSSSSS ==> Did Timm Gunn guest in Sunrise (HIMYM)?\n",
      "QUESTIONSSSSS ==> Name the nearest city to Tennie and Laura ?\n",
      "QUESTIONSSSSS ==> What are the common sports played by jamiatu Muslim mindanao and Polytechnic University of Philippines Taguig ?\n",
      "QUESTIONSSSSS ==> Where common region are soylent and bannock sold?\n",
      "QUESTIONSSSSS ==> How many more teams have rented the stadium used by Raptors 905?\n",
      "QUESTIONSSSSS ==> What water bodies are nearest to Helsinki city?\n",
      "QUESTIONSSSSS ==> What are some apes?\n",
      "QUESTIONSSSSS ==> Which university has affiliations to Graham Holdings and Kaplan, Inc.?\n",
      "QUESTIONSSSSS ==> Is Pulau Ubin the largest city of Singapore?\n",
      "QUESTIONSSSSS ==> What are some cars similar to luxury cars?\n",
      "QUESTIONSSSSS ==> What magazine is Marritt Cabal known for which has Lucifer Hammer as publisher ?\n",
      "QUESTIONSSSSS ==> Is Denver the largest city of Colorado?\n",
      "QUESTIONSSSSS ==> Which country does league of Nguendula Filipe belongs to?\n",
      "QUESTIONSSSSS ==> Where do the rivers from greater London flow into?\n",
      "QUESTIONSSSSS ==> What awards have been given to some screenwriters?\n",
      "QUESTIONSSSSS ==> in which movies have momoki kochi acted\n",
      "QUESTIONSSSSS ==> Is Christchurch the largest city of South Island?\n",
      "QUESTIONSSSSS ==> Who employed the person famous for the Boeing fa18ef Super Hornet?\n",
      "QUESTIONSSSSS ==> Where is Vietnam Airlines located ?\n",
      "QUESTIONSSSSS ==> Is the chestnut white bellied rat a mammal?\n",
      "QUESTIONSSSSS ==> What are some causes of death of European Americans?\n",
      "QUESTIONSSSSS ==> Which river's source mountain is Baikal Mountains and it's mouth is Lena Delta Wildlife Reserve?\n",
      "QUESTIONSSSSS ==> What newspapers's owners is Schibsted\n",
      "QUESTIONSSSSS ==> How many fictional characters were humans?\n",
      "QUESTIONSSSSS ==> Who owns Torrey Pines Gliderport?\n",
      "QUESTIONSSSSS ==> Which countries came together to serve a greater purpose and founded South Asia Subregional Economic Cooperation?\n",
      "QUESTIONSSSSS ==> Which nearest city of LoDaisKa Site is also the location of Oskar Blues Brewery ?\n",
      "QUESTIONSSSSS ==> How many bands are signed up with Kobalt Label Services?\n",
      "QUESTIONSSSSS ==> Is stephanie a female?\n",
      "QUESTIONSSSSS ==> Is north america one of the destinations of airtours airways?\n",
      "QUESTIONSSSSS ==> Where do cherry chevapravatdumrong and daisi pollard both live?\n",
      "QUESTIONSSSSS ==> List all those whose relatives' nationality is United States.\n",
      "QUESTIONSSSSS ==> How many awards have been given to screenwriters?\n",
      "QUESTIONSSSSS ==> Which nearest city of Jurgens Site is the death plce of Jimmie Heuga ?\n",
      "QUESTIONSSSSS ==> Does the hudson river flow into the lower manhatten?\n",
      "QUESTIONSSSSS ==> How many famous people are from the Filipinos?\n"
     ]
    }
   ],
   "source": [
    "final_answer = []\n",
    "for s,p,o in g:\n",
    "    #print \"s => \",s\n",
    "    #print \"p => \",p\n",
    "    #print \"o => \",o\n",
    "    #print \"last s => \",s.split(\"#\")[-1]\n",
    "    #print \"last p => \",p.split(\"#\")[-1]\n",
    "    #print \"o split =>\",len(o.split(\"?\"))\n",
    "    where_clause = re.search(r'\\{.*?\\}',o)\n",
    "    #print \"===> \",where_clause\n",
    "    if ((p.split(\"#\")[-1] == \"text\") and (where_clause is None)):\n",
    "            print \"QUESTIONSSSSS ==>\",,o\n",
    "    #    ans = []\n",
    "    #    ans.append(s.split(\"#\")[-1].encode(\"utf-8\"))\n",
    "    #    ans.append(o.encode(\"utf-8\"))\n",
    "    #    final_answer.append(ans)\n",
    "    #print \"========================================================================================\\n\""
   ]
  },
  {
   "cell_type": "code",
   "execution_count": 11,
   "metadata": {},
   "outputs": [
    {
     "name": "stdout",
     "output_type": "stream",
     "text": [
      "[]\n"
     ]
    }
   ],
   "source": [
    "print final_answer"
   ]
  },
  {
   "cell_type": "code",
   "execution_count": 5,
   "metadata": {},
   "outputs": [],
   "source": [
    "df = pd.DataFrame(final_answer)\n",
    "writer = pd.ExcelWriter('new_entity_linking.xlsx',engine='openpyxl')\n",
    "df.to_excel(writer,'Sheet1')\n",
    "writer.save()"
   ]
  },
  {
   "cell_type": "code",
   "execution_count": 6,
   "metadata": {},
   "outputs": [],
   "source": [
    "df.to_csv('new_entity_linking_csv', sep=',', encoding='utf-8')"
   ]
  },
  {
   "cell_type": "code",
   "execution_count": null,
   "metadata": {},
   "outputs": [],
   "source": []
  }
 ],
 "metadata": {
  "kernelspec": {
   "display_name": "Python 2",
   "language": "python",
   "name": "python2"
  },
  "language_info": {
   "codemirror_mode": {
    "name": "ipython",
    "version": 2
   },
   "file_extension": ".py",
   "mimetype": "text/x-python",
   "name": "python",
   "nbconvert_exporter": "python",
   "pygments_lexer": "ipython2",
   "version": "2.7.14"
  }
 },
 "nbformat": 4,
 "nbformat_minor": 2
}
